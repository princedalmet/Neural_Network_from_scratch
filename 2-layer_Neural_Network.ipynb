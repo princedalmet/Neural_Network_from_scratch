{
 "cells": [
  {
   "cell_type": "code",
   "execution_count": 1,
   "id": "d71a3cd3-f0d0-4abd-b208-e8aeb43b6abc",
   "metadata": {},
   "outputs": [],
   "source": [
    "import numpy as np\n",
    "import matplotlib.pyplot as plt"
   ]
  },
  {
   "cell_type": "code",
   "execution_count": 2,
   "id": "a0dac99a-ed81-49fd-b628-bb1c789e5b4d",
   "metadata": {},
   "outputs": [],
   "source": [
    "class NeuralNetwork:\n",
    "    def __init__(self, input_size, hidden_size, output_size):\n",
    "        # Initialize weights and biases\n",
    "        \n",
    "        self.W1 = np.random.randn(input_size, hidden_size) * 0.01 #i/p to hidden layer\n",
    "        self.b1 = np.zeros((1,hidden_size)) #Hidden layer bias\n",
    "        self.W2 = np.random.randn(hidden_size, output_size) * 0.01 #Hidden to o/p\n",
    "        self.b2 = np.zeros((1, output_size)) #Output layer bias\n",
    "        \n",
    "    #sigmoid we use for hidden layer to introduce non-linearlity\n",
    "    def sigmoid(self, x):\n",
    "        return 1 / (1 + np.exp(-x))\n",
    "\n",
    "    def sigmoid_derivative(self, x):\n",
    "        return self.sigmoid(x) * (1 - self.sigmoid(x))\n",
    "\n",
    "    #we use softmax for output layer to convert logits to probabilities\n",
    "\n",
    "    def softmax(self, x):\n",
    "        exp_x = np.exp(x - np.max(x, axis=1, keepdims=True)) #Numerical Stability\n",
    "        return exp_x / np.sum(exp_x, axis=1, keepdims=True)\n",
    "\n",
    "    def forward(self, X):\n",
    "        self.z1 = np.dot(X, self.W1) + self.b1 #i/p   #z1 = X * W1 + b1\n",
    "        self.a1 = self.sigmoid(self.z1) #a1 = sigmoid(z1)\n",
    "\n",
    "        self.z2 = np.dot(self.a1, self.W2) + self.b2 #hidden to o/p   z2 = a1 * W2 + b2\n",
    "        self.a2 = self.softmax(self.z2) #a2 = softmax(z2)\n",
    "        return self.a2\n",
    "\n",
    "    def compute_loss(self, y_true, y_pred):\n",
    "        m = y_true.shape[0]\n",
    "        loss = -np.sum(y_true * np.log(y_pred + 1e-8)) /  m #cross-entropy loss: Measure the difference between  predicted probability\n",
    "        return loss\n",
    "\n",
    "    def backward(self, X, y_true, y_pred, learning_rate):\n",
    "        m = y_true.shape[0]\n",
    "\n",
    "        #Output layer gradient\n",
    "        dz2 = y_pred - y_true\n",
    "        dW2 = np.dot(self.a1.T, dz2) / m\n",
    "        db2 = np.sum(dz2, axis=0, keepdims=True) /m\n",
    "\n",
    "        #Hidden layer gradient\n",
    "        dz1 = np.dot(dz2, self.W2.T) * self.sigmoid_derivative(self.z1)\n",
    "        dW1 = np.dot(X.T, dz1) / m\n",
    "        db1 = np.sum(dz1, axis=0, keepdims=True) / m\n",
    "\n",
    "        #updating the parameters\n",
    "        self.W2 -= learning_rate * dW2\n",
    "        self.b2 -= learning_rate * db2\n",
    "        self.W1 -= learning_rate * dW1\n",
    "        self.b1 -= learning_rate * db1\n",
    "\n",
    "    def train(self, X, y, epochs=1000, learning_rate=0.1):\n",
    "        losses = []\n",
    "        for epoch in range(epochs):\n",
    "            y_pred  = self.forward(X) #Forward pass\n",
    "            loss = self.compute_loss(y, y_pred)\n",
    "            losses.append(loss)\n",
    "\n",
    "\n",
    "            #Backward pass\n",
    "            self.backward(X, y, y_pred, learning_rate)\n",
    "\n",
    "            if epoch % 100 == 0:\n",
    "                print(f\"Epoch {epoch}, Loss: {loss}\")\n",
    "\n",
    "        plt.plot(losses)\n",
    "        plt.xlabel(\"Epoch\")\n",
    "        plt.ylabel(\"Loss\")\n",
    "        plt.title(\"Training Loss\")\n",
    "        plt.show()\n",
    "\n",
    "    def predict(self, X):\n",
    "        return np.argmax(self.forward(X), axis=1)\n",
    "    "
   ]
  },
  {
   "cell_type": "code",
   "execution_count": 3,
   "id": "994c9796-4150-4ebf-94ad-dc456da88140",
   "metadata": {},
   "outputs": [],
   "source": [
    "X = np.array([[0,0],[0,1],[1,0],[1,1]]) #i/p sample 4 samples 2 features)\n",
    "\n",
    "y = np.array([[1, 0], [0, 1], [0, 1], [1, 0]])"
   ]
  },
  {
   "cell_type": "code",
   "execution_count": 4,
   "id": "0fa113d2-0777-441d-b800-ead1f0cf296c",
   "metadata": {},
   "outputs": [
    {
     "name": "stdout",
     "output_type": "stream",
     "text": [
      "Epoch 0, Loss: 0.6931516218394687\n",
      "Epoch 100, Loss: 0.6931471604330512\n",
      "Epoch 200, Loss: 0.6931471604325279\n",
      "Epoch 300, Loss: 0.6931471604320076\n",
      "Epoch 400, Loss: 0.6931471604314872\n",
      "Epoch 500, Loss: 0.6931471604309667\n",
      "Epoch 600, Loss: 0.6931471604304461\n",
      "Epoch 700, Loss: 0.6931471604299253\n",
      "Epoch 800, Loss: 0.6931471604294046\n",
      "Epoch 900, Loss: 0.6931471604288838\n"
     ]
    },
    {
     "data": {
      "image/png": "[encoded data removed]",
      "text/plain": [
       "<Figure size 640x480 with 1 Axes>"
      ]
     },
     "metadata": {},
     "output_type": "display_data"
    },
    {
     "name": "stdout",
     "output_type": "stream",
     "text": [
      "predictions: [0 0 1 1]\n"
     ]
    }
   ],
   "source": [
    "nn = NeuralNetwork(input_size=2, hidden_size=4, output_size=2) #n/w\n",
    "nn.train(X, y, epochs=1000, learning_rate=0.1)#train\n",
    "\n",
    "#Predict\n",
    "predictions = nn.predict(X)\n",
    "print(\"predictions:\", predictions)\n"
   ]
  },
  {
   "cell_type": "code",
   "execution_count": null,
   "id": "5aad34d4-45d5-4315-a452-eef8c0920045",
   "metadata": {},
   "outputs": [],
   "source": []
  }
 ],
 "metadata": {
  "kernelspec": {
   "display_name": "New_project",
   "language": "python",
   "name": "new_project"
  },
  "language_info": {
   "codemirror_mode": {
    "name": "ipython",
    "version": 3
   },
   "file_extension": ".py",
   "mimetype": "text/x-python",
   "name": "python",
   "nbconvert_exporter": "python",
   "pygments_lexer": "ipython3",
   "version": "3.10.14"
  }
 },
 "nbformat": 4,
 "nbformat_minor": 5
}
